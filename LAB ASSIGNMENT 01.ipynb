{
 "cells": [
  {
   "cell_type": "code",
   "execution_count": 1,
   "id": "f99ea74f",
   "metadata": {},
   "outputs": [],
   "source": [
    "import numpy as np\n",
    "import statistics as stat\n",
    "marks=np.array([55,56,61,80,82,82,90,91,92,95])"
   ]
  },
  {
   "cell_type": "code",
   "execution_count": 2,
   "id": "12a5fbd0",
   "metadata": {},
   "outputs": [],
   "source": [
    "variance=np.var(marks)\n",
    "mean=np.mean(marks)\n",
    "median=np.median(marks)\n",
    "mode=stat.mode(marks)\n",
    "st=np.std(marks)\n",
    "the_range=np.ptp(marks)\n",
    "Q1=np.percentile(marks,25)\n",
    "Q2=np.percentile(marks,50)\n",
    "Q3=np.percentile(marks,75)\n",
    "variance=int(variance)"
   ]
  },
  {
   "cell_type": "code",
   "execution_count": 3,
   "id": "14d54d48",
   "metadata": {},
   "outputs": [
    {
     "name": "stdout",
     "output_type": "stream",
     "text": [
      "the Means of a marks: 78.4 median 82.0, mode: 82\n"
     ]
    }
   ],
   "source": [
    "print(f'the Means of a marks: {mean} median {median}, mode: {mode}')"
   ]
  },
  {
   "cell_type": "code",
   "execution_count": 4,
   "id": "416c9fc1",
   "metadata": {},
   "outputs": [
    {
     "name": "stdout",
     "output_type": "stream",
     "text": [
      "the Quartile1: 65.75 Quartile2 82.0, Quartile3: 90.75\n"
     ]
    }
   ],
   "source": [
    "print(f'the Quartile1: {Q1} Quartile2 {Q2}, Quartile3: {Q3}')"
   ]
  },
  {
   "cell_type": "code",
   "execution_count": 5,
   "id": "2c0510b5",
   "metadata": {},
   "outputs": [
    {
     "name": "stdout",
     "output_type": "stream",
     "text": [
      "the variance 213 , the Standard: 14.60958589419974 Range 40\n"
     ]
    }
   ],
   "source": [
    "print(f'the variance {variance} , the Standard: {st} Range {the_range}')"
   ]
  },
  {
   "cell_type": "code",
   "execution_count": 6,
   "id": "fb5f2fbf",
   "metadata": {},
   "outputs": [
    {
     "name": "stdout",
     "output_type": "stream",
     "text": [
      "the Means of a marks: 78.4\n"
     ]
    }
   ],
   "source": [
    "marks1=np.array([55,56,80,82,82,90,91,92,95])\n",
    "mean=np.mean(marks)\n",
    "print(f'the Means of a marks: {mean}')"
   ]
  },
  {
   "cell_type": "code",
   "execution_count": null,
   "id": "f2928b7a",
   "metadata": {},
   "outputs": [],
   "source": []
  }
 ],
 "metadata": {
  "kernelspec": {
   "display_name": "Python 3 (ipykernel)",
   "language": "python",
   "name": "python3"
  },
  "language_info": {
   "codemirror_mode": {
    "name": "ipython",
    "version": 3
   },
   "file_extension": ".py",
   "mimetype": "text/x-python",
   "name": "python",
   "nbconvert_exporter": "python",
   "pygments_lexer": "ipython3",
   "version": "3.11.4"
  }
 },
 "nbformat": 4,
 "nbformat_minor": 5
}
