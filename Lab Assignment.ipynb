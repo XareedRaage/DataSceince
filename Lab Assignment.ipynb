{
 "cells": [
  {
   "cell_type": "code",
   "execution_count": null,
   "id": "4487a7b3",
   "metadata": {},
   "outputs": [],
   "source": [
    "import numpy as np\n",
    "import statistics as stats\n",
    "marks= np.array([55,56,61,80,82,90,91,92,95])\n"
   ]
  },
  {
   "cell_type": "code",
   "execution_count": null,
   "id": "31bbcd5f",
   "metadata": {},
   "outputs": [],
   "source": [
    "varaince=np.var(marks)\n",
    "mean=np.mean(marks)\n",
    "med=np.median(marks)\n",
    "mode=stats.mode(marks)\n",
    "st=np.std(marks)\n",
    "Q1=np.percentile(marks,25)\n",
    "Q2=np.percentile(marks,50)\n",
    "Q3=np.percentile(marks,75)\n",
    "r=np.ptp(marks)\n",
    "varaince=int(varaince)"
   ]
  },
  {
   "cell_type": "code",
   "execution_count": null,
   "id": "65df13ed",
   "metadata": {},
   "outputs": [],
   "source": [
    "print (f'mean is{mean},mode is {mode},med is{med}')"
   ]
  },
  {
   "cell_type": "code",
   "execution_count": null,
   "id": "ba856f72",
   "metadata": {},
   "outputs": [],
   "source": [
    "print (f'varaince is{varaince},r is {r}')"
   ]
  },
  {
   "cell_type": "code",
   "execution_count": null,
   "id": "b9da6806",
   "metadata": {},
   "outputs": [],
   "source": [
    "print(f'Q1 is{Q1},Q2 is{Q2} Q3 is {Q3}')"
   ]
  },
  {
   "cell_type": "code",
   "execution_count": null,
   "id": "4a2ae6dd",
   "metadata": {},
   "outputs": [],
   "source": []
  }
 ],
 "metadata": {
  "kernelspec": {
   "display_name": "Python 3 (ipykernel)",
   "language": "python",
   "name": "python3"
  },
  "language_info": {
   "codemirror_mode": {
    "name": "ipython",
    "version": 3
   },
   "file_extension": ".py",
   "mimetype": "text/x-python",
   "name": "python",
   "nbconvert_exporter": "python",
   "pygments_lexer": "ipython3",
   "version": "3.11.4"
  }
 },
 "nbformat": 4,
 "nbformat_minor": 5
}
