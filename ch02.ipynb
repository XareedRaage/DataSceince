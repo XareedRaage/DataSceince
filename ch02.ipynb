{
 "cells": [
  {
   "cell_type": "code",
   "execution_count": 1,
   "id": "3a9c972d",
   "metadata": {},
   "outputs": [],
   "source": [
    "import numpy as np\n"
   ]
  },
  {
   "cell_type": "code",
   "execution_count": 3,
   "id": "15ba2973",
   "metadata": {},
   "outputs": [],
   "source": [
    "student=np.array([68,70,80,90,100,101])"
   ]
  },
  {
   "cell_type": "code",
   "execution_count": 4,
   "id": "c8c72ae5",
   "metadata": {},
   "outputs": [
    {
     "data": {
      "text/plain": [
       "array([68, 70, 80, 90])"
      ]
     },
     "execution_count": 4,
     "metadata": {},
     "output_type": "execute_result"
    }
   ],
   "source": [
    "student"
   ]
  },
  {
   "cell_type": "code",
   "execution_count": 5,
   "id": "2ccab349",
   "metadata": {},
   "outputs": [
    {
     "name": "stdout",
     "output_type": "stream",
     "text": [
      "70\n"
     ]
    }
   ],
   "source": [
    "print(student[1])"
   ]
  },
  {
   "cell_type": "code",
   "execution_count": 6,
   "id": "a4b29ee7",
   "metadata": {},
   "outputs": [
    {
     "name": "stdout",
     "output_type": "stream",
     "text": [
      "from point to point [70 80 90]\n"
     ]
    }
   ],
   "source": [
    "print(\"from point to point\",student[1:5])\n"
   ]
  },
  {
   "cell_type": "code",
   "execution_count": 7,
   "id": "eaf56985",
   "metadata": {},
   "outputs": [
    {
     "name": "stdout",
     "output_type": "stream",
     "text": [
      "70\n"
     ]
    }
   ],
   "source": [
    "print(student[1])"
   ]
  },
  {
   "cell_type": "code",
   "execution_count": 8,
   "id": "1a43c24d",
   "metadata": {},
   "outputs": [
    {
     "name": "stdout",
     "output_type": "stream",
     "text": [
      "[70 80 90]\n"
     ]
    }
   ],
   "source": [
    "print(student[1:4])"
   ]
  },
  {
   "cell_type": "code",
   "execution_count": 15,
   "id": "0a142b58",
   "metadata": {},
   "outputs": [],
   "source": [
    "studentList=np.array(['anwer','nuur', 'axmad','abdi'])"
   ]
  },
  {
   "cell_type": "code",
   "execution_count": 16,
   "id": "108d40b1",
   "metadata": {},
   "outputs": [
    {
     "name": "stdout",
     "output_type": "stream",
     "text": [
      "axmad\n"
     ]
    }
   ],
   "source": [
    "print(studentList[2])"
   ]
  },
  {
   "cell_type": "code",
   "execution_count": 17,
   "id": "9cd1d02a",
   "metadata": {},
   "outputs": [],
   "source": [
    "array1=np.array([68,90])"
   ]
  },
  {
   "cell_type": "code",
   "execution_count": 18,
   "id": "afd2f3f3",
   "metadata": {},
   "outputs": [
    {
     "data": {
      "text/plain": [
       "array([68, 90])"
      ]
     },
     "execution_count": 18,
     "metadata": {},
     "output_type": "execute_result"
    }
   ],
   "source": [
    "array1"
   ]
  },
  {
   "cell_type": "code",
   "execution_count": 21,
   "id": "096bea34",
   "metadata": {},
   "outputs": [],
   "source": [
    "array2=np.array([70,80])"
   ]
  },
  {
   "cell_type": "raw",
   "id": "962223cd",
   "metadata": {},
   "source": [
    "array2"
   ]
  },
  {
   "cell_type": "code",
   "execution_count": 22,
   "id": "0bb8c805",
   "metadata": {},
   "outputs": [
    {
     "data": {
      "text/plain": [
       "array([138, 170])"
      ]
     },
     "execution_count": 22,
     "metadata": {},
     "output_type": "execute_result"
    }
   ],
   "source": [
    "array1+array2"
   ]
  },
  {
   "cell_type": "raw",
   "id": "99cc552e",
   "metadata": {},
   "source": []
  },
  {
   "cell_type": "code",
   "execution_count": null,
   "id": "59d3e8f4",
   "metadata": {},
   "outputs": [],
   "source": []
  }
 ],
 "metadata": {
  "kernelspec": {
   "display_name": "Python 3 (ipykernel)",
   "language": "python",
   "name": "python3"
  },
  "language_info": {
   "codemirror_mode": {
    "name": "ipython",
    "version": 3
   },
   "file_extension": ".py",
   "mimetype": "text/x-python",
   "name": "python",
   "nbconvert_exporter": "python",
   "pygments_lexer": "ipython3",
   "version": "3.11.4"
  }
 },
 "nbformat": 4,
 "nbformat_minor": 5
}
