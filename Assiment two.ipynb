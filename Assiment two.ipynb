{
 "cells": [
  {
   "cell_type": "code",
   "execution_count": 1,
   "id": "9e67a239",
   "metadata": {},
   "outputs": [],
   "source": [
    "import pandas as pd"
   ]
  },
  {
   "cell_type": "markdown",
   "id": "ef7ef69f",
   "metadata": {},
   "source": [
    "# reading movies csv file"
   ]
  },
  {
   "cell_type": "code",
   "execution_count": 13,
   "id": "34fece49",
   "metadata": {},
   "outputs": [],
   "source": [
    "move=pd.read_csv(\"movies.csv\")"
   ]
  },
  {
   "cell_type": "code",
   "execution_count": 18,
   "id": "3a82e05f",
   "metadata": {},
   "outputs": [
    {
     "data": {
      "text/html": [
       "<div>\n",
       "<style scoped>\n",
       "    .dataframe tbody tr th:only-of-type {\n",
       "        vertical-align: middle;\n",
       "    }\n",
       "\n",
       "    .dataframe tbody tr th {\n",
       "        vertical-align: top;\n",
       "    }\n",
       "\n",
       "    .dataframe thead th {\n",
       "        text-align: right;\n",
       "    }\n",
       "</style>\n",
       "<table border=\"1\" class=\"dataframe\">\n",
       "  <thead>\n",
       "    <tr style=\"text-align: right;\">\n",
       "      <th></th>\n",
       "      <th>title</th>\n",
       "      <th>industry</th>\n",
       "      <th>release_year</th>\n",
       "      <th>imdb_rating</th>\n",
       "      <th>studio</th>\n",
       "      <th>budget</th>\n",
       "      <th>revenue</th>\n",
       "      <th>unit</th>\n",
       "      <th>currency</th>\n",
       "      <th>language</th>\n",
       "    </tr>\n",
       "  </thead>\n",
       "  <tbody>\n",
       "    <tr>\n",
       "      <th>0</th>\n",
       "      <td>Pather Panchali</td>\n",
       "      <td>Bollywood</td>\n",
       "      <td>1955</td>\n",
       "      <td>8.3</td>\n",
       "      <td>Government of West Bengal</td>\n",
       "      <td>70000.0</td>\n",
       "      <td>100000.0</td>\n",
       "      <td>Thousands</td>\n",
       "      <td>INR</td>\n",
       "      <td>Bengali</td>\n",
       "    </tr>\n",
       "    <tr>\n",
       "      <th>1</th>\n",
       "      <td>Doctor Strange in the Multiverse of Madness</td>\n",
       "      <td>Hollywood</td>\n",
       "      <td>2022</td>\n",
       "      <td>7.0</td>\n",
       "      <td>Marvel Studios</td>\n",
       "      <td>200.0</td>\n",
       "      <td>954.8</td>\n",
       "      <td>Millions</td>\n",
       "      <td>USD</td>\n",
       "      <td>English</td>\n",
       "    </tr>\n",
       "    <tr>\n",
       "      <th>2</th>\n",
       "      <td>Thor: The Dark World</td>\n",
       "      <td>Hollywood</td>\n",
       "      <td>2013</td>\n",
       "      <td>6.8</td>\n",
       "      <td>Marvel Studios</td>\n",
       "      <td>165.0</td>\n",
       "      <td>644.8</td>\n",
       "      <td>Millions</td>\n",
       "      <td>USD</td>\n",
       "      <td>English</td>\n",
       "    </tr>\n",
       "    <tr>\n",
       "      <th>3</th>\n",
       "      <td>Thor: Ragnarok</td>\n",
       "      <td>Hollywood</td>\n",
       "      <td>2017</td>\n",
       "      <td>7.9</td>\n",
       "      <td>Marvel Studios</td>\n",
       "      <td>180.0</td>\n",
       "      <td>854.0</td>\n",
       "      <td>Millions</td>\n",
       "      <td>USD</td>\n",
       "      <td>English</td>\n",
       "    </tr>\n",
       "    <tr>\n",
       "      <th>4</th>\n",
       "      <td>Thor: Love and Thunder</td>\n",
       "      <td>Hollywood</td>\n",
       "      <td>2022</td>\n",
       "      <td>6.8</td>\n",
       "      <td>Marvel Studios</td>\n",
       "      <td>250.0</td>\n",
       "      <td>670.0</td>\n",
       "      <td>Millions</td>\n",
       "      <td>USD</td>\n",
       "      <td>English</td>\n",
       "    </tr>\n",
       "  </tbody>\n",
       "</table>\n",
       "</div>"
      ],
      "text/plain": [
       "                                         title   industry  release_year  \\\n",
       "0                              Pather Panchali  Bollywood          1955   \n",
       "1  Doctor Strange in the Multiverse of Madness  Hollywood          2022   \n",
       "2                        Thor: The Dark World   Hollywood          2013   \n",
       "3                              Thor: Ragnarok   Hollywood          2017   \n",
       "4                      Thor: Love and Thunder   Hollywood          2022   \n",
       "\n",
       "   imdb_rating                     studio   budget   revenue       unit  \\\n",
       "0          8.3  Government of West Bengal  70000.0  100000.0  Thousands   \n",
       "1          7.0             Marvel Studios    200.0     954.8   Millions   \n",
       "2          6.8             Marvel Studios    165.0     644.8   Millions   \n",
       "3          7.9             Marvel Studios    180.0     854.0   Millions   \n",
       "4          6.8             Marvel Studios    250.0     670.0   Millions   \n",
       "\n",
       "  currency language  \n",
       "0      INR  Bengali  \n",
       "1      USD  English  \n",
       "2      USD  English  \n",
       "3      USD  English  \n",
       "4      USD  English  "
      ]
     },
     "execution_count": 18,
     "metadata": {},
     "output_type": "execute_result"
    }
   ],
   "source": [
    "move.head()"
   ]
  },
  {
   "cell_type": "markdown",
   "id": "8edf1438",
   "metadata": {},
   "source": [
    "# reading clomuns"
   ]
  },
  {
   "cell_type": "code",
   "execution_count": 21,
   "id": "c99ac62d",
   "metadata": {},
   "outputs": [
    {
     "data": {
      "text/plain": [
       "Index(['title', 'industry', 'release_year', 'imdb_rating', 'studio', 'budget',\n",
       "       'revenue', 'unit', 'currency', 'language'],\n",
       "      dtype='object')"
      ]
     },
     "execution_count": 21,
     "metadata": {},
     "output_type": "execute_result"
    }
   ],
   "source": [
    "move.columns"
   ]
  },
  {
   "cell_type": "markdown",
   "id": "67244e7c",
   "metadata": {},
   "source": [
    "# reading Shape"
   ]
  },
  {
   "cell_type": "code",
   "execution_count": 22,
   "id": "c6b30220",
   "metadata": {},
   "outputs": [
    {
     "data": {
      "text/plain": [
       "(40, 10)"
      ]
     },
     "execution_count": 22,
     "metadata": {},
     "output_type": "execute_result"
    }
   ],
   "source": [
    "move.shape\n"
   ]
  },
  {
   "cell_type": "markdown",
   "id": "1be623a4",
   "metadata": {},
   "source": [
    "# viewig unique\n"
   ]
  },
  {
   "cell_type": "code",
   "execution_count": 29,
   "id": "7239b4ee",
   "metadata": {},
   "outputs": [],
   "source": [
    "df=pd.DataFrame(move)"
   ]
  },
  {
   "cell_type": "code",
   "execution_count": 35,
   "id": "e2f746e4",
   "metadata": {},
   "outputs": [],
   "source": [
    "unique=df['industry'].unique()"
   ]
  },
  {
   "cell_type": "code",
   "execution_count": 36,
   "id": "465a6bff",
   "metadata": {},
   "outputs": [
    {
     "data": {
      "text/plain": [
       "array(['Bollywood', 'Hollywood'], dtype=object)"
      ]
     },
     "execution_count": 36,
     "metadata": {},
     "output_type": "execute_result"
    }
   ],
   "source": [
    "unique"
   ]
  },
  {
   "cell_type": "markdown",
   "id": "dfba3c45",
   "metadata": {},
   "source": [
    "# reading countig value"
   ]
  },
  {
   "cell_type": "code",
   "execution_count": 41,
   "id": "e49b53f4",
   "metadata": {},
   "outputs": [
    {
     "data": {
      "text/plain": [
       "Bollywood    20\n",
       "Hollywood    20\n",
       "Name: industry, dtype: int64"
      ]
     },
     "execution_count": 41,
     "metadata": {},
     "output_type": "execute_result"
    }
   ],
   "source": [
    "df['industry'].value_counts()"
   ]
  },
  {
   "cell_type": "markdown",
   "id": "1450845b",
   "metadata": {},
   "source": [
    "# Discriptive Statics"
   ]
  },
  {
   "cell_type": "code",
   "execution_count": 42,
   "id": "2237352d",
   "metadata": {},
   "outputs": [
    {
     "data": {
      "text/html": [
       "<div>\n",
       "<style scoped>\n",
       "    .dataframe tbody tr th:only-of-type {\n",
       "        vertical-align: middle;\n",
       "    }\n",
       "\n",
       "    .dataframe tbody tr th {\n",
       "        vertical-align: top;\n",
       "    }\n",
       "\n",
       "    .dataframe thead th {\n",
       "        text-align: right;\n",
       "    }\n",
       "</style>\n",
       "<table border=\"1\" class=\"dataframe\">\n",
       "  <thead>\n",
       "    <tr style=\"text-align: right;\">\n",
       "      <th></th>\n",
       "      <th>release_year</th>\n",
       "      <th>imdb_rating</th>\n",
       "      <th>budget</th>\n",
       "      <th>revenue</th>\n",
       "    </tr>\n",
       "  </thead>\n",
       "  <tbody>\n",
       "    <tr>\n",
       "      <th>count</th>\n",
       "      <td>40.000000</td>\n",
       "      <td>39.000000</td>\n",
       "      <td>40.000000</td>\n",
       "      <td>40.000000</td>\n",
       "    </tr>\n",
       "    <tr>\n",
       "      <th>mean</th>\n",
       "      <td>2007.950000</td>\n",
       "      <td>7.943590</td>\n",
       "      <td>1962.352000</td>\n",
       "      <td>4192.300000</td>\n",
       "    </tr>\n",
       "    <tr>\n",
       "      <th>std</th>\n",
       "      <td>17.311549</td>\n",
       "      <td>1.159808</td>\n",
       "      <td>11036.112721</td>\n",
       "      <td>15746.721179</td>\n",
       "    </tr>\n",
       "    <tr>\n",
       "      <th>min</th>\n",
       "      <td>1946.000000</td>\n",
       "      <td>1.900000</td>\n",
       "      <td>1.000000</td>\n",
       "      <td>3.100000</td>\n",
       "    </tr>\n",
       "    <tr>\n",
       "      <th>25%</th>\n",
       "      <td>2002.500000</td>\n",
       "      <td>7.850000</td>\n",
       "      <td>20.375000</td>\n",
       "      <td>284.025000</td>\n",
       "    </tr>\n",
       "    <tr>\n",
       "      <th>50%</th>\n",
       "      <td>2014.000000</td>\n",
       "      <td>8.100000</td>\n",
       "      <td>178.500000</td>\n",
       "      <td>784.200000</td>\n",
       "    </tr>\n",
       "    <tr>\n",
       "      <th>75%</th>\n",
       "      <td>2019.000000</td>\n",
       "      <td>8.400000</td>\n",
       "      <td>285.000000</td>\n",
       "      <td>2351.000000</td>\n",
       "    </tr>\n",
       "    <tr>\n",
       "      <th>max</th>\n",
       "      <td>2022.000000</td>\n",
       "      <td>9.300000</td>\n",
       "      <td>70000.000000</td>\n",
       "      <td>100000.000000</td>\n",
       "    </tr>\n",
       "  </tbody>\n",
       "</table>\n",
       "</div>"
      ],
      "text/plain": [
       "       release_year  imdb_rating        budget        revenue\n",
       "count     40.000000    39.000000     40.000000      40.000000\n",
       "mean    2007.950000     7.943590   1962.352000    4192.300000\n",
       "std       17.311549     1.159808  11036.112721   15746.721179\n",
       "min     1946.000000     1.900000      1.000000       3.100000\n",
       "25%     2002.500000     7.850000     20.375000     284.025000\n",
       "50%     2014.000000     8.100000    178.500000     784.200000\n",
       "75%     2019.000000     8.400000    285.000000    2351.000000\n",
       "max     2022.000000     9.300000  70000.000000  100000.000000"
      ]
     },
     "execution_count": 42,
     "metadata": {},
     "output_type": "execute_result"
    }
   ],
   "source": [
    "df.describe()"
   ]
  },
  {
   "cell_type": "markdown",
   "id": "2ec3f086",
   "metadata": {},
   "source": [
    "# max and min"
   ]
  },
  {
   "cell_type": "code",
   "execution_count": 43,
   "id": "aac0b887",
   "metadata": {},
   "outputs": [],
   "source": [
    "hollywood=df[df.industry==\"Hollywood\"].budget.max()\n",
    "bollywood=df[df.industry==\"Bollywood\"].budget.max()"
   ]
  },
  {
   "cell_type": "code",
   "execution_count": 44,
   "id": "7d5c6150",
   "metadata": {},
   "outputs": [
    {
     "name": "stdout",
     "output_type": "stream",
     "text": [
      "Hollywood 400.0 \n",
      "Bollywood 70000.0\n"
     ]
    }
   ],
   "source": [
    "print(f\"Hollywood {hollywood} \\nBollywood {bollywood}\")"
   ]
  },
  {
   "cell_type": "markdown",
   "id": "fb8c43cf",
   "metadata": {},
   "source": [
    "# Creting new  columns"
   ]
  },
  {
   "cell_type": "code",
   "execution_count": 72,
   "id": "c8c1d376",
   "metadata": {},
   "outputs": [],
   "source": [
    "df=pd.DataFrame(move)"
   ]
  },
  {
   "cell_type": "code",
   "execution_count": 66,
   "id": "aeb0910e",
   "metadata": {},
   "outputs": [
    {
     "name": "stdout",
     "output_type": "stream",
     "text": [
      "                                          title   industry  release_year  \\\n",
      "0                               Pather Panchali  Bollywood          1955   \n",
      "1   Doctor Strange in the Multiverse of Madness  Hollywood          2022   \n",
      "2                         Thor: The Dark World   Hollywood          2013   \n",
      "3                               Thor: Ragnarok   Hollywood          2017   \n",
      "4                       Thor: Love and Thunder   Hollywood          2022   \n",
      "5                      The Shawshank Redemption  Hollywood          1994   \n",
      "6                                  Interstellar  Hollywood          2014   \n",
      "7                      The Pursuit of Happyness  Hollywood          2006   \n",
      "8                                     Gladiator  Hollywood          2000   \n",
      "9                                       Titanic  Hollywood          1997   \n",
      "10                        It's a Wonderful Life  Hollywood          1946   \n",
      "11                                       Avatar  Hollywood          2009   \n",
      "12                                The Godfather  Hollywood          1972   \n",
      "13                              The Dark Knight  Hollywood          2008   \n",
      "14                             Schindler's List  Hollywood          1993   \n",
      "15                                Jurassic Park  Hollywood          1993   \n",
      "16                                     Parasite  Hollywood          2019   \n",
      "17                            Avengers: Endgame  Hollywood          2019   \n",
      "18                       Avengers: Infinity War  Hollywood          2018   \n",
      "19           Captain America: The First Avenger  Hollywood          2011   \n",
      "20          Captain America: The Winter Soldier  Hollywood          2014   \n",
      "21                  Dilwale Dulhania Le Jayenge  Bollywood          1995   \n",
      "22                                     3 Idiots  Bollywood          2009   \n",
      "23                     Kabhi Khushi Kabhie Gham  Bollywood          2001   \n",
      "24                             Bajirao Mastani   Bollywood          2015   \n",
      "25                             Taare Zameen Par  Bollywood          2007   \n",
      "26                          Munna Bhai M.B.B.S.  Bollywood          2003   \n",
      "27                                           PK  Bollywood          2014   \n",
      "28                                        Sanju  Bollywood          2018   \n",
      "29                            The Kashmir Files  Bollywood          2022   \n",
      "30                            Bajrangi Bhaijaan  Bollywood          2015   \n",
      "31                                       Race 3  Bollywood          2018   \n",
      "32                                    Shershaah  Bollywood          2021   \n",
      "33                             K.G.F: Chapter 2  Bollywood          2022   \n",
      "34                    Pushpa: The Rise - Part 1  Bollywood          2021   \n",
      "35                                          RRR  Bollywood          2022   \n",
      "36                     Baahubali: The Beginning  Bollywood          2015   \n",
      "37                                           PK  Bollywood          2014   \n",
      "38                            The Kashmir Files  Bollywood          2022   \n",
      "39                            The Kashmir Files  Bollywood          2022   \n",
      "\n",
      "    imdb_rating                     studio    budget   revenue       unit  \\\n",
      "0           8.3  Government of West Bengal  70000.00  100000.0  Thousands   \n",
      "1           7.0             Marvel Studios    200.00     954.8   Millions   \n",
      "2           6.8             Marvel Studios    165.00     644.8   Millions   \n",
      "3           7.9             Marvel Studios    180.00     854.0   Millions   \n",
      "4           6.8             Marvel Studios    250.00     670.0   Millions   \n",
      "5           9.3  Castle Rock Entertainment     25.00      73.3   Millions   \n",
      "6           8.6      Warner Bros. Pictures    165.00     701.8   Millions   \n",
      "7           8.0          Columbia Pictures     55.00     307.1   Millions   \n",
      "8           8.5       Universal Pictures      103.00     460.5   Millions   \n",
      "9           7.9         Paramount Pictures    200.00    2202.0   Millions   \n",
      "10          8.6              Liberty Films      3.18       3.3   Millions   \n",
      "11          7.8           20th Century Fox    237.00    2847.0   Millions   \n",
      "12          9.2         Paramount Pictures      7.20     291.0   Millions   \n",
      "13          9.0                    Syncopy    185.00    1006.0   Millions   \n",
      "14          9.0         Universal Pictures     22.00     322.2   Millions   \n",
      "15          8.2         Universal Pictures     63.00    1046.0   Millions   \n",
      "16          8.5                        NaN     15.50     263.1   Millions   \n",
      "17          8.4             Marvel Studios    400.00    2798.0   Millions   \n",
      "18          8.4             Marvel Studios    400.00    2048.0   Millions   \n",
      "19          6.9             Marvel Studios    216.70     370.6   Millions   \n",
      "20          7.8             Marvel Studios    177.00     714.4   Millions   \n",
      "21          8.0             Yash Raj Films    400.00    2000.0   Millions   \n",
      "22          8.4         Vinod Chopra Films    550.00    4000.0   Millions   \n",
      "23          7.4         Dharma Productions    390.00    1360.0   Millions   \n",
      "24          7.2                        NaN      1.40       3.5   Billions   \n",
      "25          8.3                        NaN    120.00    1350.0   Millions   \n",
      "26          8.1   Vinod Chopra Productions    100.00     410.0   Millions   \n",
      "27          8.1         Vinod Chopra Films    850.00    8540.0   Millions   \n",
      "28          NaN         Vinod Chopra Films      1.00       5.9   Billions   \n",
      "29          8.3                Zee Studios    250.00    3409.0   Millions   \n",
      "30          8.1          Salman Khan Films    900.00   11690.0   Millions   \n",
      "31          1.9          Salman Khan Films      1.80       3.1   Billions   \n",
      "32          8.4         Dharma Productions    500.00     950.0   Millions   \n",
      "33          8.4              Hombale Films      1.00      12.5   Billions   \n",
      "34          7.6        Mythri Movie Makers      2.00       3.6   Billions   \n",
      "35          8.0          DVV Entertainment      5.50      12.0   Billions   \n",
      "36          8.0           Arka Media Works      1.80       6.5   Billions   \n",
      "37          8.1         Vinod Chopra Films    850.00    8540.0   Millions   \n",
      "38          8.3                Zee Studios    250.00    3409.0   Millions   \n",
      "39          8.3                Zee Studios    250.00    3409.0   Millions   \n",
      "\n",
      "   currency language                                                  c  \\\n",
      "0       INR  Bengali                           Pather PanchaliBollywood   \n",
      "1       USD  English  Doctor Strange in the Multiverse of MadnessHol...   \n",
      "2       USD  English                     Thor: The Dark World Hollywood   \n",
      "3       USD  English                           Thor: Ragnarok Hollywood   \n",
      "4       USD  English                   Thor: Love and Thunder Hollywood   \n",
      "5       USD  English                  The Shawshank RedemptionHollywood   \n",
      "6       USD  English                              InterstellarHollywood   \n",
      "7       USD  English                  The Pursuit of HappynessHollywood   \n",
      "8       USD  English                                 GladiatorHollywood   \n",
      "9       USD  English                                   TitanicHollywood   \n",
      "10      USD  English                     It's a Wonderful LifeHollywood   \n",
      "11      USD  English                                    AvatarHollywood   \n",
      "12      USD  English                             The GodfatherHollywood   \n",
      "13      USD  English                           The Dark KnightHollywood   \n",
      "14      USD  English                          Schindler's ListHollywood   \n",
      "15      USD  English                             Jurassic ParkHollywood   \n",
      "16      USD  English                                  ParasiteHollywood   \n",
      "17      USD  English                         Avengers: EndgameHollywood   \n",
      "18      USD  English                    Avengers: Infinity WarHollywood   \n",
      "19      USD  English        Captain America: The First AvengerHollywood   \n",
      "20      USD  English       Captain America: The Winter SoldierHollywood   \n",
      "21      INR    Hindi               Dilwale Dulhania Le JayengeBollywood   \n",
      "22      INR    Hindi                                  3 IdiotsBollywood   \n",
      "23      INR    Hindi                  Kabhi Khushi Kabhie GhamBollywood   \n",
      "24      INR    Hindi                          Bajirao Mastani Bollywood   \n",
      "25      INR    Hindi                          Taare Zameen ParBollywood   \n",
      "26      INR    Hindi                       Munna Bhai M.B.B.S.Bollywood   \n",
      "27      INR    Hindi                                        PKBollywood   \n",
      "28      INR    Hindi                                     SanjuBollywood   \n",
      "29      INR    Hindi                         The Kashmir FilesBollywood   \n",
      "30      INR    Hindi                         Bajrangi BhaijaanBollywood   \n",
      "31      INR    Hindi                                    Race 3Bollywood   \n",
      "32      INR    Hindi                                 ShershaahBollywood   \n",
      "33      INR  Kannada                          K.G.F: Chapter 2Bollywood   \n",
      "34      INR   Telugu                 Pushpa: The Rise - Part 1Bollywood   \n",
      "35      INR   Telugu                                       RRRBollywood   \n",
      "36      INR   Telugu                  Baahubali: The BeginningBollywood   \n",
      "37      INR    Hindi                                        PKBollywood   \n",
      "38      INR    Hindi                         The Kashmir FilesBollywood   \n",
      "39      INR    Hindi                         The Kashmir FilesBollywood   \n",
      "\n",
      "                                            newclomns  \n",
      "0                            Pather PanchaliBollywood  \n",
      "1   Doctor Strange in the Multiverse of MadnessHol...  \n",
      "2                      Thor: The Dark World Hollywood  \n",
      "3                            Thor: Ragnarok Hollywood  \n",
      "4                    Thor: Love and Thunder Hollywood  \n",
      "5                   The Shawshank RedemptionHollywood  \n",
      "6                               InterstellarHollywood  \n",
      "7                   The Pursuit of HappynessHollywood  \n",
      "8                                  GladiatorHollywood  \n",
      "9                                    TitanicHollywood  \n",
      "10                     It's a Wonderful LifeHollywood  \n",
      "11                                    AvatarHollywood  \n",
      "12                             The GodfatherHollywood  \n",
      "13                           The Dark KnightHollywood  \n",
      "14                          Schindler's ListHollywood  \n",
      "15                             Jurassic ParkHollywood  \n",
      "16                                  ParasiteHollywood  \n",
      "17                         Avengers: EndgameHollywood  \n",
      "18                    Avengers: Infinity WarHollywood  \n",
      "19        Captain America: The First AvengerHollywood  \n",
      "20       Captain America: The Winter SoldierHollywood  \n",
      "21               Dilwale Dulhania Le JayengeBollywood  \n",
      "22                                  3 IdiotsBollywood  \n",
      "23                  Kabhi Khushi Kabhie GhamBollywood  \n",
      "24                          Bajirao Mastani Bollywood  \n",
      "25                          Taare Zameen ParBollywood  \n",
      "26                       Munna Bhai M.B.B.S.Bollywood  \n",
      "27                                        PKBollywood  \n",
      "28                                     SanjuBollywood  \n",
      "29                         The Kashmir FilesBollywood  \n",
      "30                         Bajrangi BhaijaanBollywood  \n",
      "31                                    Race 3Bollywood  \n",
      "32                                 ShershaahBollywood  \n",
      "33                          K.G.F: Chapter 2Bollywood  \n",
      "34                 Pushpa: The Rise - Part 1Bollywood  \n",
      "35                                       RRRBollywood  \n",
      "36                  Baahubali: The BeginningBollywood  \n",
      "37                                        PKBollywood  \n",
      "38                         The Kashmir FilesBollywood  \n",
      "39                         The Kashmir FilesBollywood  \n"
     ]
    }
   ],
   "source": [
    "df['newclomns']=df.apply(lambda column: column['title']+ column['industry'], axis=1)\n",
    "print(df)"
   ]
  },
  {
   "cell_type": "markdown",
   "id": "0119d28f",
   "metadata": {},
   "source": [
    "# setindex"
   ]
  },
  {
   "cell_type": "code",
   "execution_count": 69,
   "id": "c26e7895",
   "metadata": {},
   "outputs": [],
   "source": [
    "df=df.set_index('title')"
   ]
  },
  {
   "cell_type": "code",
   "execution_count": 71,
   "id": "eb1e4d03",
   "metadata": {},
   "outputs": [
    {
     "name": "stdout",
     "output_type": "stream",
     "text": [
      "                                              industry  release_year  \\\n",
      "title                                                                  \n",
      "Pather Panchali                              Bollywood          1955   \n",
      "Doctor Strange in the Multiverse of Madness  Hollywood          2022   \n",
      "Thor: The Dark World                         Hollywood          2013   \n",
      "Thor: Ragnarok                               Hollywood          2017   \n",
      "Thor: Love and Thunder                       Hollywood          2022   \n",
      "The Shawshank Redemption                     Hollywood          1994   \n",
      "Interstellar                                 Hollywood          2014   \n",
      "The Pursuit of Happyness                     Hollywood          2006   \n",
      "Gladiator                                    Hollywood          2000   \n",
      "Titanic                                      Hollywood          1997   \n",
      "It's a Wonderful Life                        Hollywood          1946   \n",
      "Avatar                                       Hollywood          2009   \n",
      "The Godfather                                Hollywood          1972   \n",
      "The Dark Knight                              Hollywood          2008   \n",
      "Schindler's List                             Hollywood          1993   \n",
      "Jurassic Park                                Hollywood          1993   \n",
      "Parasite                                     Hollywood          2019   \n",
      "Avengers: Endgame                            Hollywood          2019   \n",
      "Avengers: Infinity War                       Hollywood          2018   \n",
      "Captain America: The First Avenger           Hollywood          2011   \n",
      "Captain America: The Winter Soldier          Hollywood          2014   \n",
      "Dilwale Dulhania Le Jayenge                  Bollywood          1995   \n",
      "3 Idiots                                     Bollywood          2009   \n",
      "Kabhi Khushi Kabhie Gham                     Bollywood          2001   \n",
      "Bajirao Mastani                              Bollywood          2015   \n",
      "Taare Zameen Par                             Bollywood          2007   \n",
      "Munna Bhai M.B.B.S.                          Bollywood          2003   \n",
      "PK                                           Bollywood          2014   \n",
      "Sanju                                        Bollywood          2018   \n",
      "The Kashmir Files                            Bollywood          2022   \n",
      "Bajrangi Bhaijaan                            Bollywood          2015   \n",
      "Race 3                                       Bollywood          2018   \n",
      "Shershaah                                    Bollywood          2021   \n",
      "K.G.F: Chapter 2                             Bollywood          2022   \n",
      "Pushpa: The Rise - Part 1                    Bollywood          2021   \n",
      "RRR                                          Bollywood          2022   \n",
      "Baahubali: The Beginning                     Bollywood          2015   \n",
      "PK                                           Bollywood          2014   \n",
      "The Kashmir Files                            Bollywood          2022   \n",
      "The Kashmir Files                            Bollywood          2022   \n",
      "\n",
      "                                             imdb_rating  \\\n",
      "title                                                      \n",
      "Pather Panchali                                      8.3   \n",
      "Doctor Strange in the Multiverse of Madness          7.0   \n",
      "Thor: The Dark World                                 6.8   \n",
      "Thor: Ragnarok                                       7.9   \n",
      "Thor: Love and Thunder                               6.8   \n",
      "The Shawshank Redemption                             9.3   \n",
      "Interstellar                                         8.6   \n",
      "The Pursuit of Happyness                             8.0   \n",
      "Gladiator                                            8.5   \n",
      "Titanic                                              7.9   \n",
      "It's a Wonderful Life                                8.6   \n",
      "Avatar                                               7.8   \n",
      "The Godfather                                        9.2   \n",
      "The Dark Knight                                      9.0   \n",
      "Schindler's List                                     9.0   \n",
      "Jurassic Park                                        8.2   \n",
      "Parasite                                             8.5   \n",
      "Avengers: Endgame                                    8.4   \n",
      "Avengers: Infinity War                               8.4   \n",
      "Captain America: The First Avenger                   6.9   \n",
      "Captain America: The Winter Soldier                  7.8   \n",
      "Dilwale Dulhania Le Jayenge                          8.0   \n",
      "3 Idiots                                             8.4   \n",
      "Kabhi Khushi Kabhie Gham                             7.4   \n",
      "Bajirao Mastani                                      7.2   \n",
      "Taare Zameen Par                                     8.3   \n",
      "Munna Bhai M.B.B.S.                                  8.1   \n",
      "PK                                                   8.1   \n",
      "Sanju                                                NaN   \n",
      "The Kashmir Files                                    8.3   \n",
      "Bajrangi Bhaijaan                                    8.1   \n",
      "Race 3                                               1.9   \n",
      "Shershaah                                            8.4   \n",
      "K.G.F: Chapter 2                                     8.4   \n",
      "Pushpa: The Rise - Part 1                            7.6   \n",
      "RRR                                                  8.0   \n",
      "Baahubali: The Beginning                             8.0   \n",
      "PK                                                   8.1   \n",
      "The Kashmir Files                                    8.3   \n",
      "The Kashmir Files                                    8.3   \n",
      "\n",
      "                                                                studio  \\\n",
      "title                                                                    \n",
      "Pather Panchali                              Government of West Bengal   \n",
      "Doctor Strange in the Multiverse of Madness             Marvel Studios   \n",
      "Thor: The Dark World                                    Marvel Studios   \n",
      "Thor: Ragnarok                                          Marvel Studios   \n",
      "Thor: Love and Thunder                                  Marvel Studios   \n",
      "The Shawshank Redemption                     Castle Rock Entertainment   \n",
      "Interstellar                                     Warner Bros. Pictures   \n",
      "The Pursuit of Happyness                             Columbia Pictures   \n",
      "Gladiator                                         Universal Pictures     \n",
      "Titanic                                             Paramount Pictures   \n",
      "It's a Wonderful Life                                    Liberty Films   \n",
      "Avatar                                                20th Century Fox   \n",
      "The Godfather                                       Paramount Pictures   \n",
      "The Dark Knight                                                Syncopy   \n",
      "Schindler's List                                    Universal Pictures   \n",
      "Jurassic Park                                       Universal Pictures   \n",
      "Parasite                                                           NaN   \n",
      "Avengers: Endgame                                       Marvel Studios   \n",
      "Avengers: Infinity War                                  Marvel Studios   \n",
      "Captain America: The First Avenger                      Marvel Studios   \n",
      "Captain America: The Winter Soldier                     Marvel Studios   \n",
      "Dilwale Dulhania Le Jayenge                             Yash Raj Films   \n",
      "3 Idiots                                            Vinod Chopra Films   \n",
      "Kabhi Khushi Kabhie Gham                            Dharma Productions   \n",
      "Bajirao Mastani                                                    NaN   \n",
      "Taare Zameen Par                                                   NaN   \n",
      "Munna Bhai M.B.B.S.                           Vinod Chopra Productions   \n",
      "PK                                                  Vinod Chopra Films   \n",
      "Sanju                                               Vinod Chopra Films   \n",
      "The Kashmir Files                                          Zee Studios   \n",
      "Bajrangi Bhaijaan                                    Salman Khan Films   \n",
      "Race 3                                               Salman Khan Films   \n",
      "Shershaah                                           Dharma Productions   \n",
      "K.G.F: Chapter 2                                         Hombale Films   \n",
      "Pushpa: The Rise - Part 1                          Mythri Movie Makers   \n",
      "RRR                                                  DVV Entertainment   \n",
      "Baahubali: The Beginning                              Arka Media Works   \n",
      "PK                                                  Vinod Chopra Films   \n",
      "The Kashmir Files                                          Zee Studios   \n",
      "The Kashmir Files                                          Zee Studios   \n",
      "\n",
      "                                               budget   revenue       unit  \\\n",
      "title                                                                        \n",
      "Pather Panchali                              70000.00  100000.0  Thousands   \n",
      "Doctor Strange in the Multiverse of Madness    200.00     954.8   Millions   \n",
      "Thor: The Dark World                           165.00     644.8   Millions   \n",
      "Thor: Ragnarok                                 180.00     854.0   Millions   \n",
      "Thor: Love and Thunder                         250.00     670.0   Millions   \n",
      "The Shawshank Redemption                        25.00      73.3   Millions   \n",
      "Interstellar                                   165.00     701.8   Millions   \n",
      "The Pursuit of Happyness                        55.00     307.1   Millions   \n",
      "Gladiator                                      103.00     460.5   Millions   \n",
      "Titanic                                        200.00    2202.0   Millions   \n",
      "It's a Wonderful Life                            3.18       3.3   Millions   \n",
      "Avatar                                         237.00    2847.0   Millions   \n",
      "The Godfather                                    7.20     291.0   Millions   \n",
      "The Dark Knight                                185.00    1006.0   Millions   \n",
      "Schindler's List                                22.00     322.2   Millions   \n",
      "Jurassic Park                                   63.00    1046.0   Millions   \n",
      "Parasite                                        15.50     263.1   Millions   \n",
      "Avengers: Endgame                              400.00    2798.0   Millions   \n",
      "Avengers: Infinity War                         400.00    2048.0   Millions   \n",
      "Captain America: The First Avenger             216.70     370.6   Millions   \n",
      "Captain America: The Winter Soldier            177.00     714.4   Millions   \n",
      "Dilwale Dulhania Le Jayenge                    400.00    2000.0   Millions   \n",
      "3 Idiots                                       550.00    4000.0   Millions   \n",
      "Kabhi Khushi Kabhie Gham                       390.00    1360.0   Millions   \n",
      "Bajirao Mastani                                  1.40       3.5   Billions   \n",
      "Taare Zameen Par                               120.00    1350.0   Millions   \n",
      "Munna Bhai M.B.B.S.                            100.00     410.0   Millions   \n",
      "PK                                             850.00    8540.0   Millions   \n",
      "Sanju                                            1.00       5.9   Billions   \n",
      "The Kashmir Files                              250.00    3409.0   Millions   \n",
      "Bajrangi Bhaijaan                              900.00   11690.0   Millions   \n",
      "Race 3                                           1.80       3.1   Billions   \n",
      "Shershaah                                      500.00     950.0   Millions   \n",
      "K.G.F: Chapter 2                                 1.00      12.5   Billions   \n",
      "Pushpa: The Rise - Part 1                        2.00       3.6   Billions   \n",
      "RRR                                              5.50      12.0   Billions   \n",
      "Baahubali: The Beginning                         1.80       6.5   Billions   \n",
      "PK                                             850.00    8540.0   Millions   \n",
      "The Kashmir Files                              250.00    3409.0   Millions   \n",
      "The Kashmir Files                              250.00    3409.0   Millions   \n",
      "\n",
      "                                            currency language  \\\n",
      "title                                                           \n",
      "Pather Panchali                                  INR  Bengali   \n",
      "Doctor Strange in the Multiverse of Madness      USD  English   \n",
      "Thor: The Dark World                             USD  English   \n",
      "Thor: Ragnarok                                   USD  English   \n",
      "Thor: Love and Thunder                           USD  English   \n",
      "The Shawshank Redemption                         USD  English   \n",
      "Interstellar                                     USD  English   \n",
      "The Pursuit of Happyness                         USD  English   \n",
      "Gladiator                                        USD  English   \n",
      "Titanic                                          USD  English   \n",
      "It's a Wonderful Life                            USD  English   \n",
      "Avatar                                           USD  English   \n",
      "The Godfather                                    USD  English   \n",
      "The Dark Knight                                  USD  English   \n",
      "Schindler's List                                 USD  English   \n",
      "Jurassic Park                                    USD  English   \n",
      "Parasite                                         USD  English   \n",
      "Avengers: Endgame                                USD  English   \n",
      "Avengers: Infinity War                           USD  English   \n",
      "Captain America: The First Avenger               USD  English   \n",
      "Captain America: The Winter Soldier              USD  English   \n",
      "Dilwale Dulhania Le Jayenge                      INR    Hindi   \n",
      "3 Idiots                                         INR    Hindi   \n",
      "Kabhi Khushi Kabhie Gham                         INR    Hindi   \n",
      "Bajirao Mastani                                  INR    Hindi   \n",
      "Taare Zameen Par                                 INR    Hindi   \n",
      "Munna Bhai M.B.B.S.                              INR    Hindi   \n",
      "PK                                               INR    Hindi   \n",
      "Sanju                                            INR    Hindi   \n",
      "The Kashmir Files                                INR    Hindi   \n",
      "Bajrangi Bhaijaan                                INR    Hindi   \n",
      "Race 3                                           INR    Hindi   \n",
      "Shershaah                                        INR    Hindi   \n",
      "K.G.F: Chapter 2                                 INR  Kannada   \n",
      "Pushpa: The Rise - Part 1                        INR   Telugu   \n",
      "RRR                                              INR   Telugu   \n",
      "Baahubali: The Beginning                         INR   Telugu   \n",
      "PK                                               INR    Hindi   \n",
      "The Kashmir Files                                INR    Hindi   \n",
      "The Kashmir Files                                INR    Hindi   \n",
      "\n",
      "                                                                                             c  \\\n",
      "title                                                                                            \n",
      "Pather Panchali                                                       Pather PanchaliBollywood   \n",
      "Doctor Strange in the Multiverse of Madness  Doctor Strange in the Multiverse of MadnessHol...   \n",
      "Thor: The Dark World                                            Thor: The Dark World Hollywood   \n",
      "Thor: Ragnarok                                                        Thor: Ragnarok Hollywood   \n",
      "Thor: Love and Thunder                                        Thor: Love and Thunder Hollywood   \n",
      "The Shawshank Redemption                                     The Shawshank RedemptionHollywood   \n",
      "Interstellar                                                             InterstellarHollywood   \n",
      "The Pursuit of Happyness                                     The Pursuit of HappynessHollywood   \n",
      "Gladiator                                                                   GladiatorHollywood   \n",
      "Titanic                                                                       TitanicHollywood   \n",
      "It's a Wonderful Life                                           It's a Wonderful LifeHollywood   \n",
      "Avatar                                                                         AvatarHollywood   \n",
      "The Godfather                                                           The GodfatherHollywood   \n",
      "The Dark Knight                                                       The Dark KnightHollywood   \n",
      "Schindler's List                                                     Schindler's ListHollywood   \n",
      "Jurassic Park                                                           Jurassic ParkHollywood   \n",
      "Parasite                                                                     ParasiteHollywood   \n",
      "Avengers: Endgame                                                   Avengers: EndgameHollywood   \n",
      "Avengers: Infinity War                                         Avengers: Infinity WarHollywood   \n",
      "Captain America: The First Avenger                 Captain America: The First AvengerHollywood   \n",
      "Captain America: The Winter Soldier               Captain America: The Winter SoldierHollywood   \n",
      "Dilwale Dulhania Le Jayenge                               Dilwale Dulhania Le JayengeBollywood   \n",
      "3 Idiots                                                                     3 IdiotsBollywood   \n",
      "Kabhi Khushi Kabhie Gham                                     Kabhi Khushi Kabhie GhamBollywood   \n",
      "Bajirao Mastani                                                      Bajirao Mastani Bollywood   \n",
      "Taare Zameen Par                                                     Taare Zameen ParBollywood   \n",
      "Munna Bhai M.B.B.S.                                               Munna Bhai M.B.B.S.Bollywood   \n",
      "PK                                                                                 PKBollywood   \n",
      "Sanju                                                                           SanjuBollywood   \n",
      "The Kashmir Files                                                   The Kashmir FilesBollywood   \n",
      "Bajrangi Bhaijaan                                                   Bajrangi BhaijaanBollywood   \n",
      "Race 3                                                                         Race 3Bollywood   \n",
      "Shershaah                                                                   ShershaahBollywood   \n",
      "K.G.F: Chapter 2                                                     K.G.F: Chapter 2Bollywood   \n",
      "Pushpa: The Rise - Part 1                                   Pushpa: The Rise - Part 1Bollywood   \n",
      "RRR                                                                               RRRBollywood   \n",
      "Baahubali: The Beginning                                     Baahubali: The BeginningBollywood   \n",
      "PK                                                                                 PKBollywood   \n",
      "The Kashmir Files                                                   The Kashmir FilesBollywood   \n",
      "The Kashmir Files                                                   The Kashmir FilesBollywood   \n",
      "\n",
      "                                                                                     newclomns  \n",
      "title                                                                                           \n",
      "Pather Panchali                                                       Pather PanchaliBollywood  \n",
      "Doctor Strange in the Multiverse of Madness  Doctor Strange in the Multiverse of MadnessHol...  \n",
      "Thor: The Dark World                                            Thor: The Dark World Hollywood  \n",
      "Thor: Ragnarok                                                        Thor: Ragnarok Hollywood  \n",
      "Thor: Love and Thunder                                        Thor: Love and Thunder Hollywood  \n",
      "The Shawshank Redemption                                     The Shawshank RedemptionHollywood  \n",
      "Interstellar                                                             InterstellarHollywood  \n",
      "The Pursuit of Happyness                                     The Pursuit of HappynessHollywood  \n",
      "Gladiator                                                                   GladiatorHollywood  \n",
      "Titanic                                                                       TitanicHollywood  \n",
      "It's a Wonderful Life                                           It's a Wonderful LifeHollywood  \n",
      "Avatar                                                                         AvatarHollywood  \n",
      "The Godfather                                                           The GodfatherHollywood  \n",
      "The Dark Knight                                                       The Dark KnightHollywood  \n",
      "Schindler's List                                                     Schindler's ListHollywood  \n",
      "Jurassic Park                                                           Jurassic ParkHollywood  \n",
      "Parasite                                                                     ParasiteHollywood  \n",
      "Avengers: Endgame                                                   Avengers: EndgameHollywood  \n",
      "Avengers: Infinity War                                         Avengers: Infinity WarHollywood  \n",
      "Captain America: The First Avenger                 Captain America: The First AvengerHollywood  \n",
      "Captain America: The Winter Soldier               Captain America: The Winter SoldierHollywood  \n",
      "Dilwale Dulhania Le Jayenge                               Dilwale Dulhania Le JayengeBollywood  \n",
      "3 Idiots                                                                     3 IdiotsBollywood  \n",
      "Kabhi Khushi Kabhie Gham                                     Kabhi Khushi Kabhie GhamBollywood  \n",
      "Bajirao Mastani                                                      Bajirao Mastani Bollywood  \n",
      "Taare Zameen Par                                                     Taare Zameen ParBollywood  \n",
      "Munna Bhai M.B.B.S.                                               Munna Bhai M.B.B.S.Bollywood  \n",
      "PK                                                                                 PKBollywood  \n",
      "Sanju                                                                           SanjuBollywood  \n",
      "The Kashmir Files                                                   The Kashmir FilesBollywood  \n",
      "Bajrangi Bhaijaan                                                   Bajrangi BhaijaanBollywood  \n",
      "Race 3                                                                         Race 3Bollywood  \n",
      "Shershaah                                                                   ShershaahBollywood  \n",
      "K.G.F: Chapter 2                                                     K.G.F: Chapter 2Bollywood  \n",
      "Pushpa: The Rise - Part 1                                   Pushpa: The Rise - Part 1Bollywood  \n",
      "RRR                                                                               RRRBollywood  \n",
      "Baahubali: The Beginning                                     Baahubali: The BeginningBollywood  \n",
      "PK                                                                                 PKBollywood  \n",
      "The Kashmir Files                                                   The Kashmir FilesBollywood  \n",
      "The Kashmir Files                                                   The Kashmir FilesBollywood  \n"
     ]
    }
   ],
   "source": [
    "print(df)"
   ]
  },
  {
   "cell_type": "markdown",
   "id": "35f7b36f",
   "metadata": {},
   "source": [
    "# viewing index"
   ]
  },
  {
   "cell_type": "code",
   "execution_count": 73,
   "id": "637637ef",
   "metadata": {},
   "outputs": [
    {
     "name": "stdout",
     "output_type": "stream",
     "text": [
      "RangeIndex(start=0, stop=40, step=1)\n"
     ]
    }
   ],
   "source": [
    "print(df.index)"
   ]
  },
  {
   "cell_type": "markdown",
   "id": "322940dd",
   "metadata": {},
   "source": [
    "# Dictionary  Keys based on index"
   ]
  },
  {
   "cell_type": "code",
   "execution_count": 74,
   "id": "716bc786",
   "metadata": {},
   "outputs": [],
   "source": [
    "cities={'moga':1,'Marko':2,'gaalkacyo':3,}"
   ]
  },
  {
   "cell_type": "code",
   "execution_count": 78,
   "id": "60f89f06",
   "metadata": {},
   "outputs": [],
   "source": [
    "keys= list(cities.keys())"
   ]
  },
  {
   "cell_type": "code",
   "execution_count": 82,
   "id": "1bb3b742",
   "metadata": {},
   "outputs": [],
   "source": [
    "key=keys[2]"
   ]
  },
  {
   "cell_type": "code",
   "execution_count": 84,
   "id": "9e46ceb2",
   "metadata": {},
   "outputs": [
    {
     "name": "stdout",
     "output_type": "stream",
     "text": [
      "the key at the index is'gaalkacyo'\n"
     ]
    }
   ],
   "source": [
    "print(f\"the key at the index is'{key}'\")"
   ]
  },
  {
   "cell_type": "markdown",
   "id": "fd28dd1d",
   "metadata": {},
   "source": [
    "# loc method dataframe"
   ]
  },
  {
   "cell_type": "code",
   "execution_count": 93,
   "id": "36d31d4f",
   "metadata": {},
   "outputs": [],
   "source": [
    "df=pd.DataFrame(move)"
   ]
  },
  {
   "cell_type": "code",
   "execution_count": 95,
   "id": "88f66344",
   "metadata": {},
   "outputs": [],
   "source": [
    "selecdata=df.loc[:,'title']"
   ]
  },
  {
   "cell_type": "code",
   "execution_count": 100,
   "id": "c521c7d4",
   "metadata": {},
   "outputs": [
    {
     "data": {
      "text/plain": [
       "0                                 Pather Panchali\n",
       "1     Doctor Strange in the Multiverse of Madness\n",
       "2                           Thor: The Dark World \n",
       "3                                 Thor: Ragnarok \n",
       "4                         Thor: Love and Thunder \n",
       "5                        The Shawshank Redemption\n",
       "6                                    Interstellar\n",
       "7                        The Pursuit of Happyness\n",
       "8                                       Gladiator\n",
       "9                                         Titanic\n",
       "10                          It's a Wonderful Life\n",
       "11                                         Avatar\n",
       "12                                  The Godfather\n",
       "13                                The Dark Knight\n",
       "14                               Schindler's List\n",
       "15                                  Jurassic Park\n",
       "16                                       Parasite\n",
       "17                              Avengers: Endgame\n",
       "18                         Avengers: Infinity War\n",
       "19             Captain America: The First Avenger\n",
       "20            Captain America: The Winter Soldier\n",
       "21                    Dilwale Dulhania Le Jayenge\n",
       "22                                       3 Idiots\n",
       "23                       Kabhi Khushi Kabhie Gham\n",
       "24                               Bajirao Mastani \n",
       "25                               Taare Zameen Par\n",
       "26                            Munna Bhai M.B.B.S.\n",
       "27                                             PK\n",
       "28                                          Sanju\n",
       "29                              The Kashmir Files\n",
       "30                              Bajrangi Bhaijaan\n",
       "31                                         Race 3\n",
       "32                                      Shershaah\n",
       "33                               K.G.F: Chapter 2\n",
       "34                      Pushpa: The Rise - Part 1\n",
       "35                                            RRR\n",
       "36                       Baahubali: The Beginning\n",
       "37                                             PK\n",
       "38                              The Kashmir Files\n",
       "39                              The Kashmir Files\n",
       "Name: title, dtype: object"
      ]
     },
     "execution_count": 100,
     "metadata": {},
     "output_type": "execute_result"
    }
   ],
   "source": [
    "selecdata"
   ]
  },
  {
   "cell_type": "markdown",
   "id": "7a4096a6",
   "metadata": {},
   "source": [
    "# iloc method"
   ]
  },
  {
   "cell_type": "code",
   "execution_count": 104,
   "id": "085e53a6",
   "metadata": {},
   "outputs": [],
   "source": [
    "slectediloc=df.iloc[1]"
   ]
  },
  {
   "cell_type": "code",
   "execution_count": 105,
   "id": "576cebdd",
   "metadata": {},
   "outputs": [
    {
     "data": {
      "text/plain": [
       "title                 Doctor Strange in the Multiverse of Madness\n",
       "industry                                                Hollywood\n",
       "release_year                                                 2022\n",
       "imdb_rating                                                   7.0\n",
       "studio                                             Marvel Studios\n",
       "budget                                                      200.0\n",
       "revenue                                                     954.8\n",
       "unit                                                     Millions\n",
       "currency                                                      USD\n",
       "language                                                  English\n",
       "c               Doctor Strange in the Multiverse of MadnessHol...\n",
       "Name: 1, dtype: object"
      ]
     },
     "execution_count": 105,
     "metadata": {},
     "output_type": "execute_result"
    }
   ],
   "source": [
    "slectediloc"
   ]
  },
  {
   "cell_type": "code",
   "execution_count": null,
   "id": "1e659f04",
   "metadata": {},
   "outputs": [],
   "source": []
  }
 ],
 "metadata": {
  "kernelspec": {
   "display_name": "Python 3 (ipykernel)",
   "language": "python",
   "name": "python3"
  },
  "language_info": {
   "codemirror_mode": {
    "name": "ipython",
    "version": 3
   },
   "file_extension": ".py",
   "mimetype": "text/x-python",
   "name": "python",
   "nbconvert_exporter": "python",
   "pygments_lexer": "ipython3",
   "version": "3.11.4"
  }
 },
 "nbformat": 4,
 "nbformat_minor": 5
}
