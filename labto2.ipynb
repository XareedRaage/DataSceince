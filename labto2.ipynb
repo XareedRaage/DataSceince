{
 "cells": [
  {
   "cell_type": "code",
   "execution_count": 10,
   "id": "2e6b8cc7",
   "metadata": {},
   "outputs": [],
   "source": [
    "import pandas as pd"
   ]
  },
  {
   "cell_type": "code",
   "execution_count": 11,
   "id": "f68986a5",
   "metadata": {},
   "outputs": [],
   "source": [
    "movies={\n",
    "    'name':['thor'],\n",
    "    'age':[2013],\n",
    "    'company':['morval'],\n",
    "}"
   ]
  },
  {
   "cell_type": "code",
   "execution_count": 12,
   "id": "a48c3ef2",
   "metadata": {},
   "outputs": [],
   "source": [
    "df=pd.DataFrame(movies)"
   ]
  },
  {
   "cell_type": "code",
   "execution_count": 13,
   "id": "1ed7019c",
   "metadata": {},
   "outputs": [
    {
     "name": "stdout",
     "output_type": "stream",
     "text": [
      "   name   age company\n",
      "0  thor  2013  morval\n"
     ]
    }
   ],
   "source": [
    "print(df)"
   ]
  },
  {
   "cell_type": "code",
   "execution_count": null,
   "id": "c0cf5f6c",
   "metadata": {},
   "outputs": [],
   "source": []
  }
 ],
 "metadata": {
  "kernelspec": {
   "display_name": "Python 3 (ipykernel)",
   "language": "python",
   "name": "python3"
  },
  "language_info": {
   "codemirror_mode": {
    "name": "ipython",
    "version": 3
   },
   "file_extension": ".py",
   "mimetype": "text/x-python",
   "name": "python",
   "nbconvert_exporter": "python",
   "pygments_lexer": "ipython3",
   "version": "3.11.4"
  }
 },
 "nbformat": 4,
 "nbformat_minor": 5
}
