{
 "cells": [
  {
   "cell_type": "code",
   "execution_count": 3,
   "id": "3932f7d7",
   "metadata": {},
   "outputs": [],
   "source": [
    "import pandas as pd"
   ]
  },
  {
   "cell_type": "markdown",
   "id": "46ff9f5e",
   "metadata": {},
   "source": [
    "# Read the csv file http://localhost:8888/edit/Desktop/jupyter/sales_data.csv"
   ]
  },
  {
   "cell_type": "code",
   "execution_count": 4,
   "id": "5d7618bf",
   "metadata": {},
   "outputs": [],
   "source": [
    "sales_data = pd.read_csv('sales_data.csv')"
   ]
  },
  {
   "cell_type": "code",
   "execution_count": 5,
   "id": "bb88f573",
   "metadata": {},
   "outputs": [
    {
     "data": {
      "text/plain": [
       "Index(['invoice_no', 'customer_id', 'category', 'quantity', 'price',\n",
       "       'invoice_date', 'shopping_mall'],\n",
       "      dtype='object')"
      ]
     },
     "execution_count": 5,
     "metadata": {},
     "output_type": "execute_result"
    }
   ],
   "source": [
    "sales_data.columns"
   ]
  },
  {
   "cell_type": "code",
   "execution_count": 6,
   "id": "b192ba13",
   "metadata": {},
   "outputs": [
    {
     "data": {
      "text/html": [
       "<div>\n",
       "<style scoped>\n",
       "    .dataframe tbody tr th:only-of-type {\n",
       "        vertical-align: middle;\n",
       "    }\n",
       "\n",
       "    .dataframe tbody tr th {\n",
       "        vertical-align: top;\n",
       "    }\n",
       "\n",
       "    .dataframe thead th {\n",
       "        text-align: right;\n",
       "    }\n",
       "</style>\n",
       "<table border=\"1\" class=\"dataframe\">\n",
       "  <thead>\n",
       "    <tr style=\"text-align: right;\">\n",
       "      <th></th>\n",
       "      <th>invoice_no</th>\n",
       "      <th>customer_id</th>\n",
       "      <th>category</th>\n",
       "      <th>quantity</th>\n",
       "      <th>price</th>\n",
       "      <th>invoice_date</th>\n",
       "      <th>shopping_mall</th>\n",
       "    </tr>\n",
       "  </thead>\n",
       "  <tbody>\n",
       "    <tr>\n",
       "      <th>0</th>\n",
       "      <td>I138884</td>\n",
       "      <td>C241288</td>\n",
       "      <td>Clothing</td>\n",
       "      <td>5.0</td>\n",
       "      <td>1500.40</td>\n",
       "      <td>5/8/2022</td>\n",
       "      <td>Kanyon</td>\n",
       "    </tr>\n",
       "    <tr>\n",
       "      <th>1</th>\n",
       "      <td>I317333</td>\n",
       "      <td>C111565</td>\n",
       "      <td>Shoes</td>\n",
       "      <td>3.0</td>\n",
       "      <td>1800.51</td>\n",
       "      <td>12/12/2021</td>\n",
       "      <td>Forum Istanbul</td>\n",
       "    </tr>\n",
       "    <tr>\n",
       "      <th>2</th>\n",
       "      <td>I127801</td>\n",
       "      <td>C266599</td>\n",
       "      <td>Clothing</td>\n",
       "      <td>1.0</td>\n",
       "      <td>300.08</td>\n",
       "      <td>9/11/2021</td>\n",
       "      <td>Metrocity</td>\n",
       "    </tr>\n",
       "    <tr>\n",
       "      <th>3</th>\n",
       "      <td>I173702</td>\n",
       "      <td>C988172</td>\n",
       "      <td>Shoes</td>\n",
       "      <td>5.0</td>\n",
       "      <td>3000.85</td>\n",
       "      <td>16-05-2021</td>\n",
       "      <td>Metropol AVM</td>\n",
       "    </tr>\n",
       "    <tr>\n",
       "      <th>4</th>\n",
       "      <td>I337046</td>\n",
       "      <td>C189076</td>\n",
       "      <td>Books</td>\n",
       "      <td>4.0</td>\n",
       "      <td>60.60</td>\n",
       "      <td>24-10-2021</td>\n",
       "      <td>Kanyon</td>\n",
       "    </tr>\n",
       "    <tr>\n",
       "      <th>...</th>\n",
       "      <td>...</td>\n",
       "      <td>...</td>\n",
       "      <td>...</td>\n",
       "      <td>...</td>\n",
       "      <td>...</td>\n",
       "      <td>...</td>\n",
       "      <td>...</td>\n",
       "    </tr>\n",
       "    <tr>\n",
       "      <th>99457</th>\n",
       "      <td>I337046</td>\n",
       "      <td>C189076</td>\n",
       "      <td>Books</td>\n",
       "      <td>4.0</td>\n",
       "      <td>60.60</td>\n",
       "      <td>24-10-2021</td>\n",
       "      <td>Kanyon</td>\n",
       "    </tr>\n",
       "    <tr>\n",
       "      <th>99458</th>\n",
       "      <td>I170504</td>\n",
       "      <td>C226974</td>\n",
       "      <td>Books</td>\n",
       "      <td>1.0</td>\n",
       "      <td>15.15</td>\n",
       "      <td>28-02-2023</td>\n",
       "      <td>Zorlu Center</td>\n",
       "    </tr>\n",
       "    <tr>\n",
       "      <th>99459</th>\n",
       "      <td>I170504</td>\n",
       "      <td>C226974</td>\n",
       "      <td>Books</td>\n",
       "      <td>1.0</td>\n",
       "      <td>15.15</td>\n",
       "      <td>28-02-2023</td>\n",
       "      <td>Zorlu Center</td>\n",
       "    </tr>\n",
       "    <tr>\n",
       "      <th>99460</th>\n",
       "      <td>I152790</td>\n",
       "      <td>C223470</td>\n",
       "      <td>Cosmetics</td>\n",
       "      <td>4.0</td>\n",
       "      <td>162.64</td>\n",
       "      <td>26-07-2021</td>\n",
       "      <td>Mall of Istanbul</td>\n",
       "    </tr>\n",
       "    <tr>\n",
       "      <th>99461</th>\n",
       "      <td>I131678</td>\n",
       "      <td>C119287</td>\n",
       "      <td>Toys</td>\n",
       "      <td>1.0</td>\n",
       "      <td>35.84</td>\n",
       "      <td>26-11-2021</td>\n",
       "      <td>Mall of Istanbul</td>\n",
       "    </tr>\n",
       "  </tbody>\n",
       "</table>\n",
       "<p>99462 rows × 7 columns</p>\n",
       "</div>"
      ],
      "text/plain": [
       "      invoice_no customer_id   category  quantity    price invoice_date  \\\n",
       "0        I138884     C241288   Clothing       5.0  1500.40     5/8/2022   \n",
       "1        I317333     C111565      Shoes       3.0  1800.51   12/12/2021   \n",
       "2        I127801     C266599   Clothing       1.0   300.08    9/11/2021   \n",
       "3        I173702     C988172      Shoes       5.0  3000.85   16-05-2021   \n",
       "4        I337046     C189076      Books       4.0    60.60   24-10-2021   \n",
       "...          ...         ...        ...       ...      ...          ...   \n",
       "99457    I337046     C189076      Books       4.0    60.60   24-10-2021   \n",
       "99458    I170504     C226974      Books       1.0    15.15   28-02-2023   \n",
       "99459    I170504     C226974      Books       1.0    15.15   28-02-2023   \n",
       "99460    I152790     C223470  Cosmetics       4.0   162.64   26-07-2021   \n",
       "99461    I131678     C119287       Toys       1.0    35.84   26-11-2021   \n",
       "\n",
       "          shopping_mall  \n",
       "0                Kanyon  \n",
       "1        Forum Istanbul  \n",
       "2             Metrocity  \n",
       "3          Metropol AVM  \n",
       "4                Kanyon  \n",
       "...                 ...  \n",
       "99457            Kanyon  \n",
       "99458      Zorlu Center  \n",
       "99459      Zorlu Center  \n",
       "99460  Mall of Istanbul  \n",
       "99461  Mall of Istanbul  \n",
       "\n",
       "[99462 rows x 7 columns]"
      ]
     },
     "execution_count": 6,
     "metadata": {},
     "output_type": "execute_result"
    }
   ],
   "source": [
    "sales_data"
   ]
  },
  {
   "cell_type": "markdown",
   "id": "5a6259e3",
   "metadata": {},
   "source": [
    "# Display unique values for category variable then count it"
   ]
  },
  {
   "cell_type": "code",
   "execution_count": 7,
   "id": "532e8e99",
   "metadata": {},
   "outputs": [
    {
     "name": "stdout",
     "output_type": "stream",
     "text": [
      "['Clothing' 'Shoes' 'Books' 'Cosmetics' 'Food & Beverage' 'Toys'\n",
      " 'Technology' 'Souvenir']\n"
     ]
    }
   ],
   "source": [
    "print(sales_data['category'].unique())"
   ]
  },
  {
   "cell_type": "code",
   "execution_count": 8,
   "id": "9a7f3fd2",
   "metadata": {},
   "outputs": [
    {
     "name": "stdout",
     "output_type": "stream",
     "text": [
      "8\n"
     ]
    }
   ],
   "source": [
    "print(sales_data['category'].nunique())"
   ]
  },
  {
   "cell_type": "code",
   "execution_count": 9,
   "id": "649600ee",
   "metadata": {},
   "outputs": [
    {
     "data": {
      "text/plain": [
       "Clothing           34487\n",
       "Cosmetics          15098\n",
       "Food & Beverage    14776\n",
       "Toys               10088\n",
       "Shoes              10034\n",
       "Souvenir            4999\n",
       "Technology          4996\n",
       "Books               4984\n",
       "Name: category, dtype: int64"
      ]
     },
     "execution_count": 9,
     "metadata": {},
     "output_type": "execute_result"
    }
   ],
   "source": [
    "sales_data.category.value_counts()"
   ]
  },
  {
   "cell_type": "markdown",
   "id": "75de7bdd",
   "metadata": {},
   "source": [
    "# Data cleaning"
   ]
  },
  {
   "cell_type": "code",
   "execution_count": 10,
   "id": "7750291a",
   "metadata": {},
   "outputs": [
    {
     "name": "stdout",
     "output_type": "stream",
     "text": [
      "invoice_no       0\n",
      "customer_id      0\n",
      "category         0\n",
      "quantity         1\n",
      "price            1\n",
      "invoice_date     0\n",
      "shopping_mall    0\n",
      "dtype: int64\n"
     ]
    }
   ],
   "source": [
    "# Check for missing values\n",
    "print(sales_data.isnull().sum())"
   ]
  },
  {
   "cell_type": "code",
   "execution_count": 11,
   "id": "986525a9",
   "metadata": {},
   "outputs": [
    {
     "name": "stdout",
     "output_type": "stream",
     "text": [
      "1154.87\n"
     ]
    }
   ],
   "source": [
    "Q1 = sales_data['price'].quantile(0.25)\n",
    "Q3 = sales_data['price'].quantile(0.75)\n",
    "IQR = Q3 - Q1\n",
    "print(IQR)"
   ]
  },
  {
   "cell_type": "code",
   "execution_count": 12,
   "id": "11fede64",
   "metadata": {},
   "outputs": [],
   "source": [
    "# Filter outliers\n",
    "lowerFence=Q1-1.5*IQR\n",
    "UpperFence=Q3+1.5*IQR\n",
    "FilteredDF=sales_data[(sales_data.price>=lowerFence)&(sales_data.price<=UpperFence)]"
   ]
  },
  {
   "cell_type": "code",
   "execution_count": 13,
   "id": "2fbf55fd",
   "metadata": {},
   "outputs": [],
   "source": [
    "sales_data.fillna(method=\"ffill\",inplace=True)"
   ]
  },
  {
   "cell_type": "code",
   "execution_count": 14,
   "id": "f6a1e407",
   "metadata": {},
   "outputs": [
    {
     "data": {
      "text/plain": [
       "invoice_no       0\n",
       "customer_id      0\n",
       "category         0\n",
       "quantity         0\n",
       "price            0\n",
       "invoice_date     0\n",
       "shopping_mall    0\n",
       "dtype: int64"
      ]
     },
     "execution_count": 14,
     "metadata": {},
     "output_type": "execute_result"
    }
   ],
   "source": [
    "sales_data.isnull().sum()"
   ]
  },
  {
   "cell_type": "code",
   "execution_count": 15,
   "id": "983a00de",
   "metadata": {},
   "outputs": [
    {
     "data": {
      "text/plain": [
       "0        False\n",
       "1        False\n",
       "2        False\n",
       "3        False\n",
       "4        False\n",
       "         ...  \n",
       "99457     True\n",
       "99458     True\n",
       "99459     True\n",
       "99460     True\n",
       "99461     True\n",
       "Length: 99462, dtype: bool"
      ]
     },
     "execution_count": 15,
     "metadata": {},
     "output_type": "execute_result"
    }
   ],
   "source": [
    "#duplicates\n",
    "sales_data.duplicated()"
   ]
  },
  {
   "cell_type": "code",
   "execution_count": 16,
   "id": "5ca33cbb",
   "metadata": {},
   "outputs": [
    {
     "data": {
      "text/plain": [
       "<bound method NDFrame._add_numeric_operations.<locals>.sum of 0        False\n",
       "1        False\n",
       "2        False\n",
       "3        False\n",
       "4        False\n",
       "         ...  \n",
       "99457     True\n",
       "99458     True\n",
       "99459     True\n",
       "99460     True\n",
       "99461     True\n",
       "Length: 99462, dtype: bool>"
      ]
     },
     "execution_count": 16,
     "metadata": {},
     "output_type": "execute_result"
    }
   ],
   "source": [
    "sales_data.duplicated().sum"
   ]
  },
  {
   "cell_type": "markdown",
   "id": "5b664d78",
   "metadata": {},
   "source": [
    "# Display columns where quantity is greater than 4"
   ]
  },
  {
   "cell_type": "code",
   "execution_count": 17,
   "id": "b4ace708",
   "metadata": {},
   "outputs": [
    {
     "name": "stdout",
     "output_type": "stream",
     "text": [
      "              category  quantity    price\n",
      "0             Clothing       5.0  1500.40\n",
      "3                Shoes       5.0  3000.85\n",
      "5             Clothing       5.0  1500.40\n",
      "15               Shoes       5.0  3000.85\n",
      "23          Technology       5.0  5250.00\n",
      "...                ...       ...      ...\n",
      "99436         Clothing       5.0  1500.40\n",
      "99438             Toys       5.0   179.20\n",
      "99445  Food & Beverage       5.0    26.15\n",
      "99451             Toys       5.0   179.20\n",
      "99452         Souvenir       5.0    58.65\n",
      "\n",
      "[19990 rows x 3 columns]\n"
     ]
    }
   ],
   "source": [
    "\n",
    "print(sales_data[(sales_data['quantity']>4)][['category','quantity','price']])"
   ]
  },
  {
   "cell_type": "markdown",
   "id": "d113cd92",
   "metadata": {},
   "source": [
    "# Display maximum price"
   ]
  },
  {
   "cell_type": "code",
   "execution_count": 19,
   "id": "ffdcf943",
   "metadata": {},
   "outputs": [
    {
     "name": "stdout",
     "output_type": "stream",
     "text": [
      "5250.0\n"
     ]
    }
   ],
   "source": [
    "print(sales_data['price'].max())"
   ]
  },
  {
   "cell_type": "markdown",
   "id": "c4d0620a",
   "metadata": {},
   "source": [
    "# Add new column TotalAmount"
   ]
  },
  {
   "cell_type": "code",
   "execution_count": 20,
   "id": "b5c0f544",
   "metadata": {},
   "outputs": [],
   "source": [
    "sales_data['TotalAmount'] = sales_data['quantity'] * sales_data['price'] "
   ]
  },
  {
   "cell_type": "code",
   "execution_count": 56,
   "id": "b21dbdc7",
   "metadata": {},
   "outputs": [
    {
     "data": {
      "text/html": [
       "<div>\n",
       "<style scoped>\n",
       "    .dataframe tbody tr th:only-of-type {\n",
       "        vertical-align: middle;\n",
       "    }\n",
       "\n",
       "    .dataframe tbody tr th {\n",
       "        vertical-align: top;\n",
       "    }\n",
       "\n",
       "    .dataframe thead th {\n",
       "        text-align: right;\n",
       "    }\n",
       "</style>\n",
       "<table border=\"1\" class=\"dataframe\">\n",
       "  <thead>\n",
       "    <tr style=\"text-align: right;\">\n",
       "      <th></th>\n",
       "      <th>invoice_no</th>\n",
       "      <th>customer_id</th>\n",
       "      <th>category</th>\n",
       "      <th>quantity</th>\n",
       "      <th>price</th>\n",
       "      <th>invoice_date</th>\n",
       "      <th>shopping_mall</th>\n",
       "      <th>TotalAmount</th>\n",
       "    </tr>\n",
       "  </thead>\n",
       "  <tbody>\n",
       "    <tr>\n",
       "      <th>0</th>\n",
       "      <td>I138884</td>\n",
       "      <td>C241288</td>\n",
       "      <td>Clothing</td>\n",
       "      <td>5.0</td>\n",
       "      <td>1500.40</td>\n",
       "      <td>5/8/2022</td>\n",
       "      <td>Kanyon</td>\n",
       "      <td>7502.00</td>\n",
       "    </tr>\n",
       "    <tr>\n",
       "      <th>1</th>\n",
       "      <td>I317333</td>\n",
       "      <td>C111565</td>\n",
       "      <td>Shoes</td>\n",
       "      <td>3.0</td>\n",
       "      <td>1800.51</td>\n",
       "      <td>12/12/2021</td>\n",
       "      <td>Forum Istanbul</td>\n",
       "      <td>5401.53</td>\n",
       "    </tr>\n",
       "    <tr>\n",
       "      <th>2</th>\n",
       "      <td>I127801</td>\n",
       "      <td>C266599</td>\n",
       "      <td>Clothing</td>\n",
       "      <td>1.0</td>\n",
       "      <td>300.08</td>\n",
       "      <td>9/11/2021</td>\n",
       "      <td>Metrocity</td>\n",
       "      <td>300.08</td>\n",
       "    </tr>\n",
       "    <tr>\n",
       "      <th>3</th>\n",
       "      <td>I173702</td>\n",
       "      <td>C988172</td>\n",
       "      <td>Shoes</td>\n",
       "      <td>5.0</td>\n",
       "      <td>3000.85</td>\n",
       "      <td>16-05-2021</td>\n",
       "      <td>Metropol AVM</td>\n",
       "      <td>15004.25</td>\n",
       "    </tr>\n",
       "    <tr>\n",
       "      <th>4</th>\n",
       "      <td>I337046</td>\n",
       "      <td>C189076</td>\n",
       "      <td>Books</td>\n",
       "      <td>4.0</td>\n",
       "      <td>60.60</td>\n",
       "      <td>24-10-2021</td>\n",
       "      <td>Kanyon</td>\n",
       "      <td>242.40</td>\n",
       "    </tr>\n",
       "    <tr>\n",
       "      <th>...</th>\n",
       "      <td>...</td>\n",
       "      <td>...</td>\n",
       "      <td>...</td>\n",
       "      <td>...</td>\n",
       "      <td>...</td>\n",
       "      <td>...</td>\n",
       "      <td>...</td>\n",
       "      <td>...</td>\n",
       "    </tr>\n",
       "    <tr>\n",
       "      <th>99457</th>\n",
       "      <td>I337046</td>\n",
       "      <td>C189076</td>\n",
       "      <td>Books</td>\n",
       "      <td>4.0</td>\n",
       "      <td>60.60</td>\n",
       "      <td>24-10-2021</td>\n",
       "      <td>Kanyon</td>\n",
       "      <td>242.40</td>\n",
       "    </tr>\n",
       "    <tr>\n",
       "      <th>99458</th>\n",
       "      <td>I170504</td>\n",
       "      <td>C226974</td>\n",
       "      <td>Books</td>\n",
       "      <td>1.0</td>\n",
       "      <td>15.15</td>\n",
       "      <td>28-02-2023</td>\n",
       "      <td>Zorlu Center</td>\n",
       "      <td>15.15</td>\n",
       "    </tr>\n",
       "    <tr>\n",
       "      <th>99459</th>\n",
       "      <td>I170504</td>\n",
       "      <td>C226974</td>\n",
       "      <td>Books</td>\n",
       "      <td>1.0</td>\n",
       "      <td>15.15</td>\n",
       "      <td>28-02-2023</td>\n",
       "      <td>Zorlu Center</td>\n",
       "      <td>15.15</td>\n",
       "    </tr>\n",
       "    <tr>\n",
       "      <th>99460</th>\n",
       "      <td>I152790</td>\n",
       "      <td>C223470</td>\n",
       "      <td>Cosmetics</td>\n",
       "      <td>4.0</td>\n",
       "      <td>162.64</td>\n",
       "      <td>26-07-2021</td>\n",
       "      <td>Mall of Istanbul</td>\n",
       "      <td>650.56</td>\n",
       "    </tr>\n",
       "    <tr>\n",
       "      <th>99461</th>\n",
       "      <td>I131678</td>\n",
       "      <td>C119287</td>\n",
       "      <td>Toys</td>\n",
       "      <td>1.0</td>\n",
       "      <td>35.84</td>\n",
       "      <td>26-11-2021</td>\n",
       "      <td>Mall of Istanbul</td>\n",
       "      <td>35.84</td>\n",
       "    </tr>\n",
       "  </tbody>\n",
       "</table>\n",
       "<p>99462 rows × 8 columns</p>\n",
       "</div>"
      ],
      "text/plain": [
       "      invoice_no customer_id   category  quantity    price invoice_date  \\\n",
       "0        I138884     C241288   Clothing       5.0  1500.40     5/8/2022   \n",
       "1        I317333     C111565      Shoes       3.0  1800.51   12/12/2021   \n",
       "2        I127801     C266599   Clothing       1.0   300.08    9/11/2021   \n",
       "3        I173702     C988172      Shoes       5.0  3000.85   16-05-2021   \n",
       "4        I337046     C189076      Books       4.0    60.60   24-10-2021   \n",
       "...          ...         ...        ...       ...      ...          ...   \n",
       "99457    I337046     C189076      Books       4.0    60.60   24-10-2021   \n",
       "99458    I170504     C226974      Books       1.0    15.15   28-02-2023   \n",
       "99459    I170504     C226974      Books       1.0    15.15   28-02-2023   \n",
       "99460    I152790     C223470  Cosmetics       4.0   162.64   26-07-2021   \n",
       "99461    I131678     C119287       Toys       1.0    35.84   26-11-2021   \n",
       "\n",
       "          shopping_mall  TotalAmount  \n",
       "0                Kanyon      7502.00  \n",
       "1        Forum Istanbul      5401.53  \n",
       "2             Metrocity       300.08  \n",
       "3          Metropol AVM     15004.25  \n",
       "4                Kanyon       242.40  \n",
       "...                 ...          ...  \n",
       "99457            Kanyon       242.40  \n",
       "99458      Zorlu Center        15.15  \n",
       "99459      Zorlu Center        15.15  \n",
       "99460  Mall of Istanbul       650.56  \n",
       "99461  Mall of Istanbul        35.84  \n",
       "\n",
       "[99462 rows x 8 columns]"
      ]
     },
     "execution_count": 56,
     "metadata": {},
     "output_type": "execute_result"
    }
   ],
   "source": [
    "sales_data"
   ]
  },
  {
   "cell_type": "markdown",
   "id": "2f6fb14d",
   "metadata": {},
   "source": [
    "# Visualize using pie chart "
   ]
  },
  {
   "cell_type": "code",
   "execution_count": 60,
   "id": "0ab88d14",
   "metadata": {},
   "outputs": [
    {
     "data": {
      "text/plain": [
       "<Axes: ylabel='price'>"
      ]
     },
     "execution_count": 60,
     "metadata": {},
     "output_type": "execute_result"
    },
    {
     "data": {
      "image/png": "[encoded data removed]",
      "text/plain": [
       "<Figure size 640x480 with 1 Axes>"
      ]
     },
     "metadata": {},
     "output_type": "display_data"
    }
   ],
   "source": [
    "sales_data.price.value_counts().plot(kind=\"pie\")"
   ]
  },
  {
   "cell_type": "code",
   "execution_count": null,
   "id": "b04d8a43",
   "metadata": {},
   "outputs": [],
   "source": []
  },
  {
   "cell_type": "code",
   "execution_count": null,
   "id": "b24d4858",
   "metadata": {},
   "outputs": [],
   "source": []
  }
 ],
 "metadata": {
  "kernelspec": {
   "display_name": "Python 3 (ipykernel)",
   "language": "python",
   "name": "python3"
  },
  "language_info": {
   "codemirror_mode": {
    "name": "ipython",
    "version": 3
   },
   "file_extension": ".py",
   "mimetype": "text/x-python",
   "name": "python",
   "nbconvert_exporter": "python",
   "pygments_lexer": "ipython3",
   "version": "3.11.4"
  }
 },
 "nbformat": 4,
 "nbformat_minor": 5
}
